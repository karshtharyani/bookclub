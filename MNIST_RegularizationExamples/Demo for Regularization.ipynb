{
 "cells": [
  {
   "cell_type": "code",
   "execution_count": 4,
   "metadata": {},
   "outputs": [],
   "source": [
    "import Pkg"
   ]
  },
  {
   "cell_type": "code",
   "execution_count": 5,
   "metadata": {},
   "outputs": [],
   "source": [
    "import Base"
   ]
  },
  {
   "cell_type": "code",
   "execution_count": 20,
   "metadata": {},
   "outputs": [
    {
     "data": {
      "text/plain": [
       "\"../MNIST/mnist_png/testing\""
      ]
     },
     "execution_count": 20,
     "metadata": {},
     "output_type": "execute_result"
    }
   ],
   "source": [
    "pathToTrainData = \"../MNIST/mnist_png/training\"\n",
    "pathToTestData = \"../MNIST/mnist_png/testing\""
   ]
  },
  {
   "cell_type": "code",
   "execution_count": 34,
   "metadata": {},
   "outputs": [
    {
     "data": {
      "text/latex": [
       "\\begin{tabular}\n",
       "{l | r | l}\n",
       "name & size & summary \\\\\n",
       "\\hline\n",
       "Base &  & Module \\\\\n",
       "Core &  & Module \\\\\n",
       "Main &  & Module \\\\\n",
       "pathToTestData & 34 bytes & String \\\\\n",
       "pathToTesting & 8 bytes & String \\\\\n",
       "pathToTrainData & 35 bytes & String \\\\\n",
       "pathToTraining & 8 bytes & String \\\\\n",
       "\\end{tabular}\n"
      ],
      "text/markdown": [
       "| name            |     size | summary |\n",
       "|:--------------- | --------:|:------- |\n",
       "| Base            |          | Module  |\n",
       "| Core            |          | Module  |\n",
       "| Main            |          | Module  |\n",
       "| pathToTestData  | 34 bytes | String  |\n",
       "| pathToTesting   |  8 bytes | String  |\n",
       "| pathToTrainData | 35 bytes | String  |\n",
       "| pathToTraining  |  8 bytes | String  |\n"
      ],
      "text/plain": [
       "  name                size summary\n",
       "  ––––––––––––––– –––––––– –––––––\n",
       "  Base                     Module \n",
       "  Core                     Module \n",
       "  Main                     Module \n",
       "  pathToTestData  34 bytes String \n",
       "  pathToTesting    8 bytes String \n",
       "  pathToTrainData 35 bytes String \n",
       "  pathToTraining   8 bytes String "
      ]
     },
     "execution_count": 34,
     "metadata": {},
     "output_type": "execute_result"
    }
   ],
   "source": [
    "varinfo()"
   ]
  },
  {
   "cell_type": "code",
   "execution_count": 38,
   "metadata": {},
   "outputs": [],
   "source": [
    "#Loading Images\n",
    "#Pkg.add(\"Images\")\n",
    "#Pkg.add(\"TestImages\")"
   ]
  },
  {
   "cell_type": "code",
   "execution_count": 40,
   "metadata": {},
   "outputs": [
    {
     "data": {
      "text/plain": [
       "10-element Array{String,1}:\n",
       " \"0\"\n",
       " \"1\"\n",
       " \"2\"\n",
       " \"3\"\n",
       " \"4\"\n",
       " \"5\"\n",
       " \"6\"\n",
       " \"7\"\n",
       " \"8\"\n",
       " \"9\""
      ]
     },
     "execution_count": 40,
     "metadata": {},
     "output_type": "execute_result"
    }
   ],
   "source": [
    "readdir(pathToTrainData)"
   ]
  },
  {
   "cell_type": "code",
   "execution_count": null,
   "metadata": {},
   "outputs": [],
   "source": []
  }
 ],
 "metadata": {
  "kernelspec": {
   "display_name": "Julia 1.3.0",
   "language": "julia",
   "name": "julia-1.3"
  },
  "language_info": {
   "file_extension": ".jl",
   "mimetype": "application/julia",
   "name": "julia",
   "version": "1.3.0"
  }
 },
 "nbformat": 4,
 "nbformat_minor": 2
}
